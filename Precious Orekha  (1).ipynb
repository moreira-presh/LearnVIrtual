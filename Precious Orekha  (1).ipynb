{
 "cells": [
  {
   "cell_type": "markdown",
   "metadata": {},
   "source": [
    "# LEARNVIRTUAL ASSIGNMENT_WEEK3"
   ]
  },
  {
   "cell_type": "code",
   "execution_count": null,
   "metadata": {},
   "outputs": [],
   "source": []
  },
  {
   "cell_type": "markdown",
   "metadata": {},
   "source": [
    "\n",
    "\n",
    "**Question 1: Simple Interest** "
   ]
  },
  {
   "cell_type": "code",
   "execution_count": 2,
   "metadata": {},
   "outputs": [
    {
     "name": "stdout",
     "output_type": "stream",
     "text": [
      "Simply enter the values of the principal, rate and time (separated with a comma):\n",
      "2,3,4\n",
      "Result: 0.24\n"
     ]
    }
   ],
   "source": [
    "# Formula for simple interest is given thus:\n",
    " #(Principal  * rate * time) / 100\n",
    "\n",
    "print ('Simply enter the values of the principal, rate and time (separated with a comma):')\n",
    "principal, rate, time = eval(input(''))\n",
    "rate = (principal  * rate * time) / 100\n",
    "print('Result:',rate)"
   ]
  },
  {
   "cell_type": "code",
   "execution_count": null,
   "metadata": {},
   "outputs": [],
   "source": []
  },
  {
   "cell_type": "markdown",
   "metadata": {},
   "source": [
    "**Question 2: Area of a Shape**"
   ]
  },
  {
   "cell_type": "code",
   "execution_count": 3,
   "metadata": {},
   "outputs": [
    {
     "name": "stdout",
     "output_type": "stream",
     "text": [
      "Enter the values of the given base and height (separated with a comma):\n",
      "2,5\n",
      "Result: 5.0\n"
     ]
    }
   ],
   "source": [
    "# solving for the area of a Triangle\n",
    "# given thus: (base * height) / 2\n",
    "\n",
    "print ('Enter the values of the given base and height (separated with a comma):')\n",
    "\n",
    "base, height = eval (input(''))\n",
    "area = (base*height)/2\n",
    "print('Result:', area)\n"
   ]
  },
  {
   "cell_type": "code",
   "execution_count": 4,
   "metadata": {},
   "outputs": [
    {
     "name": "stdout",
     "output_type": "stream",
     "text": [
      "Enter the values of the triangle:2,5\n",
      "Area of the triangle:5.0\n"
     ]
    }
   ],
   "source": [
    "# same can be given thus :\n",
    "base, height = eval (input('Enter the values of the triangle:'))\n",
    "area_of_triangle = (base*height)/2\n",
    "print('Area of the triangle:' + str(area_of_triangle))"
   ]
  },
  {
   "cell_type": "code",
   "execution_count": null,
   "metadata": {},
   "outputs": [],
   "source": []
  },
  {
   "cell_type": "markdown",
   "metadata": {},
   "source": [
    "**Question 3: Daily Activities**"
   ]
  },
  {
   "cell_type": "code",
   "execution_count": 5,
   "metadata": {},
   "outputs": [
    {
     "name": "stdout",
     "output_type": "stream",
     "text": [
      "Pick any if you have a free day:Wednesday\n",
      "Yes i have so much to time to rest\n"
     ]
    }
   ],
   "source": [
    "Weekdays = ['Monday', 'Tuesday', 'Wednesday', 'Thursday', 'Friday']\n",
    "Weekends = ['Saturday', 'Sunday']\n",
    "free_days = input('Pick any if you have a free day:')\n",
    "if free_days in Weekdays:\n",
    "    print('Yes i have so much to time to rest')\n",
    "elif free_days in Weekends:\n",
    "    print ('Maybe i can do some exercises')\n",
    "else:\n",
    "    print('No i have to work')"
   ]
  },
  {
   "cell_type": "code",
   "execution_count": null,
   "metadata": {},
   "outputs": [],
   "source": []
  },
  {
   "cell_type": "markdown",
   "metadata": {},
   "source": [
    "**Question 4: Restaurant Menu**\n"
   ]
  },
  {
   "cell_type": "code",
   "execution_count": 6,
   "metadata": {},
   "outputs": [
    {
     "name": "stdout",
     "output_type": "stream",
     "text": [
      "Welcome to Orekha's palace of well sort and homemade delicacies.\n",
      "You are free to feel at home, I trust that you will find the time memorable\n",
      "\n",
      " Fill in your name: Precious Orekha Ozemoya\n",
      "\n",
      " You are welcome again! Precious Orekha Ozemoya\n",
      "I have in the Menu all sort of African and Nigerian made delicacies.\n",
      "So feel free to ask questions in case you are confused about the menu order. \n",
      "I have some combination for your appetite, take a look \n",
      "(a) Amala and Ewedu, with Goat Meat \n",
      "(b) Egusi and Pounded Yam with grilled Snails \n",
      "(c) Irish Potato,Chicken(meshed and Cat Soup \n",
      "(d) Starch with banga soup, and a large Cat fish \n",
      "(e) none of the listedd\n",
      "I wont trade this for another!\n"
     ]
    }
   ],
   "source": [
    "# Orekha's Cuisine \n",
    "\n",
    "print (\"Welcome to Orekha's palace of well sort and homemade delicacies.\")\n",
    "print ('You are free to feel at home, I trust that you will find the time memorable')\n",
    "name = input('\\n Fill in your name: ') \n",
    "print ('\\n You are welcome again!', name)\n",
    "print ('I have in the Menu all sort of African and Nigerian made delicacies.')\n",
    "print ('So feel free to ask questions in case you are confused about the menu order. ')\n",
    "Menu = input('I have some combination for your appetite, take a look \\n(a) Amala and Ewedu, with Goat Meat \\n(b) Egusi and Pounded Yam with grilled Snails \\n(c) Irish Potato,Chicken(meshed and Cat Soup \\n(d) Starch with banga soup, and a large Cat fish \\n(e) none of the listed')\n",
    "\n",
    "if (Menu.lower() == 'a'):\n",
    "       print ('Wow Excellent choice')\n",
    "elif (Menu.lower() == 'b'):\n",
    "       print ('Great one for the tommy')\n",
    "elif (Menu.lower() == 'c'):\n",
    "       print('Nice, Some english sense taste you have')\n",
    "elif (Menu.lower() == 'd'):\n",
    "       print ('I wont trade this for another!')\n",
    "    \n",
    "else:\n",
    "       print (\"Dont go yet, why don't you try our other special menu\")"
   ]
  },
  {
   "cell_type": "code",
   "execution_count": null,
   "metadata": {},
   "outputs": [],
   "source": []
  },
  {
   "cell_type": "code",
   "execution_count": null,
   "metadata": {},
   "outputs": [],
   "source": []
  }
 ],
 "metadata": {
  "kernelspec": {
   "display_name": "Python 3",
   "language": "python",
   "name": "python3"
  },
  "language_info": {
   "codemirror_mode": {
    "name": "ipython",
    "version": 3
   },
   "file_extension": ".py",
   "mimetype": "text/x-python",
   "name": "python",
   "nbconvert_exporter": "python",
   "pygments_lexer": "ipython3",
   "version": "3.7.3"
  }
 },
 "nbformat": 4,
 "nbformat_minor": 2
}
